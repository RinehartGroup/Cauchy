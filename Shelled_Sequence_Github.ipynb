{
 "cells": [
  {
   "cell_type": "markdown",
   "id": "2391f348",
   "metadata": {},
   "source": [
    "# MvsH"
   ]
  },
  {
   "cell_type": "markdown",
   "id": "1ac57fb0",
   "metadata": {},
   "source": [
    "#### Import Modules"
   ]
  },
  {
   "cell_type": "code",
   "execution_count": null,
   "id": "c99470cb",
   "metadata": {
    "scrolled": true
   },
   "outputs": [],
   "source": [
    "import os\n",
    "import numpy as np\n",
    "import pandas as pd\n",
    "import matplotlib\n",
    "import matplotlib.pyplot as plt\n",
    "from matplotlib.ticker import AutoMinorLocator\n",
    "import glob\n",
    "import scipy\n",
    "from scipy.optimize import curve_fit\n",
    "from scipy.interpolate import interp1d\n",
    "\n",
    "# some global plotting parameters\n",
    "plt.rcParams['font.size'] = 22.5\n",
    "plt.rcParams['axes.linewidth'] = 2.5\n",
    "\n",
    "# set font to bold and Arial\n",
    "plt.rcParams[\"font.weight\"] = \"bold\"\n",
    "plt.rcParams[\"axes.labelweight\"] = \"bold\"\n",
    "plt.rcParams['font.sans-serif'] = \"Arial\"\n",
    "\n",
    "plt.rcParams['mathtext.fontset'] = 'custom'\n",
    "plt.rcParams['mathtext.rm'] = 'Bitstream Vera Sans'\n",
    "plt.rcParams['mathtext.it'] = 'Bitstream Vera Sans:italic'\n",
    "plt.rcParams['mathtext.bf'] = 'Bitstream Vera Sans:bold'"
   ]
  },
  {
   "cell_type": "markdown",
   "id": "da62187c",
   "metadata": {},
   "source": [
    "#### Specify path to Sample info and Pd Standard"
   ]
  },
  {
   "cell_type": "code",
   "execution_count": null,
   "id": "13cd5ebc",
   "metadata": {},
   "outputs": [],
   "source": [
    "os.chdir('/Users/Kyle/Documents/UCSD/Research/Paper_2/Fig_3_Magnetism')\n",
    "Samples_info = pd.read_csv(\"Silica_Shell_Data.txt\", delim_whitespace=True)\n",
    "Pd_Std = pd.read_csv('Pd_Std_MvsH_300K.csv')"
   ]
  },
  {
   "cell_type": "code",
   "execution_count": null,
   "id": "7bd3030b",
   "metadata": {
    "scrolled": true
   },
   "outputs": [],
   "source": [
    "Samples_info"
   ]
  },
  {
   "cell_type": "code",
   "execution_count": null,
   "id": "48911e7f",
   "metadata": {},
   "outputs": [],
   "source": [
    "Sample_Name = 'KMK245S'\n",
    "sample = Sample_Name\n",
    "\n",
    "os.chdir('/Users/Kyle/Downloads/Testing')\n",
    "\n",
    "MvsH_300K_file = sample + '_MvsH_300K.dat'\n",
    "\n",
    "MvsH_files = [MvsH_300K_file]\n",
    "\n",
    "Sample_info = Samples_info[Samples_info.Sample.isin([Sample_Name]) == True]"
   ]
  },
  {
   "cell_type": "markdown",
   "id": "ada84782",
   "metadata": {},
   "source": [
    "#### MvsH: Import and manipulate data"
   ]
  },
  {
   "cell_type": "code",
   "execution_count": null,
   "id": "bf4e8ef8",
   "metadata": {},
   "outputs": [],
   "source": [
    "FO_Mass_Percent = float(Sample_info.FO_percentage) / 100\n",
    "\n",
    "MvsH = []\n",
    "Temps = []\n",
    "\n",
    "for file in MvsH_files:\n",
    "    MvsH_temp = pd.read_csv(file, header = 40) #import MvsH file\n",
    "    MvsH_temp = MvsH_temp.dropna(axis=1, how ='all') # drop columns containing NaN\n",
    "\n",
    "    MvsH_temp = MvsH_temp[['Temperature (K)', 'Magnetic Field (Oe)', 'DC Moment Free Ctr (emu)']] #extract important columns\n",
    "    MvsH_temp.rename(columns = {'Temperature (K)':'Temp', 'Magnetic Field (Oe)': 'Field', 'DC Moment Free Ctr (emu)': 'Moment_emu'}, inplace=True)\n",
    "\n",
    "    Mass = pd.read_csv(file, skiprows=23, nrows=0) # import mass\n",
    "    sample_mass = float(Mass.columns[1])/1000 # convert mg to g\n",
    "    \n",
    "    MvsH_temp.Field = MvsH_temp.Field / 10000 #convert Oe to T\n",
    "      \n",
    "    MvsH_temp['Moment_emu_g'] = (MvsH_temp.Moment_emu) / (sample_mass * FO_Mass_Percent)  # convert emu to emu/g\n",
    "    \n",
    "    # For KMK316 only\n",
    "    #MvsH_temp['Moment_emu_g'] = (MvsH_temp.Moment_emu) / 0.00010405\n",
    "    \n",
    "    MvsH_temp.Temp = MvsH_temp.Temp.round(0) # round temperature\n",
    "\n",
    "    temps = np.unique(MvsH_temp.Temp) #identify unique temperatures\n",
    "    \n",
    "    # Append data into global array\n",
    "    MvsH.append(MvsH_temp)\n",
    "    Temps.append(temps[0])"
   ]
  },
  {
   "cell_type": "markdown",
   "id": "82bfe661",
   "metadata": {},
   "source": [
    "#### MvsH: Plot"
   ]
  },
  {
   "cell_type": "code",
   "execution_count": null,
   "id": "d174ab6d",
   "metadata": {},
   "outputs": [],
   "source": [
    "MvsH[0]['Field_True'] = Pd_Std['Field_True'].values/10000"
   ]
  },
  {
   "cell_type": "code",
   "execution_count": null,
   "id": "929d3be5",
   "metadata": {},
   "outputs": [],
   "source": [
    "# ### ONLY FOR KMK273S AND KMK245S TO INTERPOLATE THE PD STANDARD TRUE FIELDS ###\n",
    "\n",
    "# def interp_forward(x):\n",
    "#     y = (0.9667*x*10000)+30.661 # This is a linear fit to the Pd standard forward sweep\n",
    "#     return y\n",
    "\n",
    "# def interp_reverse(x):\n",
    "#     y = (0.9668*x*10000)-30.426  # This is a linear fit to the Pd standard reverse sweep\n",
    "#     return y\n",
    "\n",
    "# scan_forward = MvsH[0].Field[0:222]\n",
    "# scan_reverse = MvsH[0].Field[222:380]\n",
    "# field_forward = interp_forward(scan_forward)\n",
    "# field_reverse = interp_reverse(scan_reverse)\n",
    "# new = np.append(field_forward, field_reverse)\n",
    "# MvsH[0]['Field_True'] = new/10000"
   ]
  },
  {
   "cell_type": "code",
   "execution_count": null,
   "id": "30164992",
   "metadata": {},
   "outputs": [],
   "source": [
    "fig = plt.figure(1, figsize = (10,10))\n",
    "\n",
    "# custom colormap\n",
    "colors = ['#0033CC','#009966','#A3142E','#7D2E8F','#a6d854']\n",
    "\n",
    "# horizontal and vertical lines\n",
    "plt.axhline(y=0, xmin=0, xmax=1, linewidth=2.5, color = 'k', zorder=0)\n",
    "plt.axvline(x=0, ymin=0, ymax=1, linewidth=2.5, color='k', zorder=0)\n",
    "\n",
    "# pulls the unique temperatures and converts to strings for the legend\n",
    "temps_text = []\n",
    "for i in range (len(Temps)):\n",
    "    temps_text.append(str(int(Temps[i])) + ' K')\n",
    "\n",
    "for i in range (len(MvsH)):\n",
    "    plt.plot(MvsH[i].Field_True, MvsH[i].Moment_emu_g,\n",
    "             linewidth = 2,\n",
    "             color = colors[i], \n",
    "             label = temps_text[i])\n",
    "\n",
    "# plot parameters\n",
    "plt.xlabel('$H$' + ' (T)')\n",
    "plt.ylabel('$M$' + ' (emu/g)')\n",
    "\n",
    "plt.xlim([-7.5, 7.5])\n",
    "plt.ylim([-90, 90])\n",
    "\n",
    "plt.legend(frameon = False, loc = 'lower right')\n",
    "\n",
    "ax=plt.gca()\n",
    "ax.set_aspect(1.0/ax.get_data_ratio(), adjustable='box')\n",
    "\n",
    "plt.minorticks_on()\n",
    "plt.tick_params(which = 'minor', width=2.5, length=4)\n",
    "plt.tick_params(which = 'major', width=2.5, length=8)\n",
    "ax.xaxis.set_minor_locator(AutoMinorLocator(5))\n",
    "ax.set_aspect(1.0/ax.get_data_ratio(), adjustable='box')\n",
    "\n",
    "# export as .png\n",
    "plt.savefig(sample + '_MvsH.png', dpi = 1000, bbox_inches = 'tight')\n",
    "\n",
    "# save as .txt\n",
    "MvsH[0].to_csv(sample + '_' + str(int(Temps[0])) + 'K' + '_MvsH.csv')"
   ]
  },
  {
   "cell_type": "code",
   "execution_count": null,
   "id": "34024209",
   "metadata": {},
   "outputs": [],
   "source": [
    "ZFCFC_file = sample + '_ZFCFC.dat'\n",
    "\n",
    "ZFCFC = pd.read_csv(ZFCFC_file, header = 40) # import ZFCFC file\n",
    "ZFCFC = ZFCFC.dropna(axis=1, how ='all') # drop columns containing NaN\n",
    "\n",
    "ZFCFC = ZFCFC[['Temperature (K)', 'Magnetic Field (Oe)', 'DC Moment Free Ctr (emu)']] #extract important columns\n",
    "ZFCFC.rename(columns = {'Temperature (K)':'Temp', 'Magnetic Field (Oe)': 'Field', 'DC Moment Free Ctr (emu)': 'Moment_emu'}, inplace=True)\n",
    "\n",
    "Mass = pd.read_csv(ZFCFC_file, skiprows=23, nrows=0) # import mass\n",
    "sample_mass = float(Mass.columns[1])/1000 # convert mg to g\n",
    "\n",
    "ZFCFC.Field = ZFCFC.Field / 10000 # convert Oe to T\n",
    "ZFCFC['Moment_emu_g'] = ZFCFC.Moment_emu / (sample_mass*float(Sample_info.FO_percentage)) # convert emu to emu/g\n",
    "\n",
    "ZFCFC_start = 0\n",
    "ZFCFC_end = int((len(ZFCFC) -1)/2)\n",
    "\n",
    "FC_start = int(ZFCFC_end + 1)\n",
    "FC_end = len(ZFCFC)"
   ]
  },
  {
   "cell_type": "code",
   "execution_count": null,
   "id": "51ba7b08",
   "metadata": {},
   "outputs": [],
   "source": [
    "fig = plt.figure(2, figsize = (10,10))\n",
    "\n",
    "colors = ['#0033CC','#009966','#A3142E','#7D2E8F','#a6d854']\n",
    "    \n",
    "plt.plot(ZFCFC.Temp[ZFCFC_start:ZFCFC_end], ZFCFC.Moment_emu_g[ZFCFC_start:ZFCFC_end],\n",
    "        linewidth = 2.5,\n",
    "        color = colors[0],\n",
    "        label = 'ZFC')\n",
    "\n",
    "plt.plot(ZFCFC.Temp[FC_start:FC_end], ZFCFC.Moment_emu_g[FC_start:FC_end],\n",
    "        linewidth = 2.5,\n",
    "        color = colors[1],\n",
    "        label = 'FC')\n",
    "    \n",
    "plt.legend(frameon = False, loc = 'upper right')\n",
    "\n",
    "plt.xlabel('$T$' + ' (K)')\n",
    "plt.ylabel('$M$' + ' (emu/g)')\n",
    "\n",
    "plt.xlim([0, 305])\n",
    "\n",
    "ax=plt.gca()\n",
    "ax.set_aspect(1.0/ax.get_data_ratio(), adjustable='box')\n",
    "\n",
    "plt.minorticks_on()\n",
    "plt.tick_params(which = 'minor', width=2.5, length=4)\n",
    "plt.tick_params(which = 'major', width=2.5, length=8)\n",
    "ax.xaxis.set_minor_locator(AutoMinorLocator(5))\n",
    "ax.set_aspect(1.0/ax.get_data_ratio(), adjustable='box')\n",
    "\n",
    "# export as .png\n",
    "plt.savefig(sample +'_ZFCFC.png', dpi = 1000, bbox_inches = 'tight')\n",
    "\n",
    "# save as .txt\n",
    "ZFCFC.to_csv(sample + '_ZFCFC.csv')"
   ]
  }
 ],
 "metadata": {
  "kernelspec": {
   "display_name": "Python 3 (ipykernel)",
   "language": "python",
   "name": "python3"
  },
  "language_info": {
   "codemirror_mode": {
    "name": "ipython",
    "version": 3
   },
   "file_extension": ".py",
   "mimetype": "text/x-python",
   "name": "python",
   "nbconvert_exporter": "python",
   "pygments_lexer": "ipython3",
   "version": "3.9.16"
  }
 },
 "nbformat": 4,
 "nbformat_minor": 5
}
